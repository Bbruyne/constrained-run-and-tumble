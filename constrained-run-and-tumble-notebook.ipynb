{
 "cells": [
  {
   "cell_type": "code",
   "execution_count": 1,
   "id": "fe7e8e85",
   "metadata": {},
   "outputs": [],
   "source": [
    "import numpy as np \n",
    "import scipy.special\n",
    "import matplotlib.pyplot as plt"
   ]
  },
  {
   "cell_type": "markdown",
   "id": "abe57261",
   "metadata": {},
   "source": [
    "# Generic functions"
   ]
  },
  {
   "cell_type": "markdown",
   "id": "f726ffe2",
   "metadata": {},
   "source": [
    "## Generic run function"
   ]
  },
  {
   "cell_type": "code",
   "execution_count": 2,
   "id": "804c7dca",
   "metadata": {},
   "outputs": [],
   "source": [
    "def run(tf,dt,gamma):\n",
    "    ''' Returns a trajectory of a constrained run-and-tumble particle during a time tf with\n",
    "    time increments dt with a given effective tumbling rate gamma '''\n",
    "    x = 0\n",
    "    positions = [x]\n",
    "    t = 0\n",
    "    times = [t]\n",
    "    sigma = 1\n",
    "    \n",
    "    while t < tf:\n",
    "        \n",
    "        if np.random.rand() < gamma(x,t,tf)**sigma*dt:\n",
    "            sigma = - sigma\n",
    "            positions.append(x)\n",
    "            times.append(t)\n",
    "        \n",
    "        x += sigma * dt    \n",
    "        t += dt \n",
    "    \n",
    "    positions.append(x)\n",
    "    times.append(t)\n",
    "    return times, positions\n",
    "\n",
    "\n",
    "''' functions f, g and h defined in the paper'''\n",
    "def f(t,x):\n",
    "    return t - x\n",
    "def g(t,x):\n",
    "    return t + x\n",
    "def h(t,x):\n",
    "    return np.sqrt(f(t,x)*g(t,x))"
   ]
  },
  {
   "cell_type": "markdown",
   "id": "177b4cef",
   "metadata": {},
   "source": [
    "# Bridge run-and-tumble trajectories"
   ]
  },
  {
   "cell_type": "code",
   "execution_count": 3,
   "id": "0382d3d5",
   "metadata": {},
   "outputs": [],
   "source": [
    "def gamma_bridge(x,t,tf):\n",
    "    ''' returns the effective tumbling rate a bridge run-and-tumble particle with\n",
    "    \\sigma_0 = +1 and \\sigma_f = -1'''\n",
    "    tau = tf-t\n",
    "    if np.abs(f(tau,x))<0.01:\n",
    "        return np.inf\n",
    "    else:   \n",
    "        return np.sqrt(g(tau,x)/f(tau,x)) * scipy.special.i1(h(tau,x))/scipy.special.i0(h(tau,x))"
   ]
  },
  {
   "cell_type": "code",
   "execution_count": 4,
   "id": "3d818388",
   "metadata": {},
   "outputs": [],
   "source": [
    "dt = 0.01\n",
    "tf = 5\n",
    "times, positions = run(tf,dt,gamma_bridge)"
   ]
  },
  {
   "cell_type": "code",
   "execution_count": 5,
   "id": "65d7bce5",
   "metadata": {},
   "outputs": [
    {
     "data": {
      "text/plain": [
       "Text(0, 0.5, 'x')"
      ]
     },
     "execution_count": 5,
     "metadata": {},
     "output_type": "execute_result"
    },
    {
     "data": {
      "image/png": "[encoded data removed]",
      "text/plain": [
       "<Figure size 432x288 with 1 Axes>"
      ]
     },
     "metadata": {
      "needs_background": "light"
     },
     "output_type": "display_data"
    }
   ],
   "source": [
    "plt.plot(times,positions)\n",
    "plt.xlabel('t')\n",
    "plt.ylabel('x')"
   ]
  },
  {
   "cell_type": "markdown",
   "id": "047680a4",
   "metadata": {},
   "source": [
    "# Excursion run-and-tumble trajectories"
   ]
  },
  {
   "cell_type": "code",
   "execution_count": 6,
   "id": "ccf77dc4",
   "metadata": {},
   "outputs": [],
   "source": [
    "def gamma_excursion(x,t,tf):\n",
    "    ''' returns the effective tumbling rate an excursion run-and-tumble particle'''\n",
    "    tau = tf-t\n",
    "    if np.abs(f(tau,x))<0.01:\n",
    "        return np.inf\n",
    "    else:\n",
    "        numerator = scipy.special.i1(h(tau,x))\n",
    "        denominator = x*scipy.special.i0(h(tau,x))+np.sqrt(f(tau,x)/g(tau,x))*scipy.special.i1(h(tau,x))\n",
    "        return x*np.sqrt(g(tau,x)/f(tau,x))*numerator/denominator"
   ]
  },
  {
   "cell_type": "code",
   "execution_count": 7,
   "id": "172d94e9",
   "metadata": {},
   "outputs": [],
   "source": [
    "dt = 0.01\n",
    "tf = 5\n",
    "times, positions = run(tf,dt,gamma_excursion)"
   ]
  },
  {
   "cell_type": "code",
   "execution_count": 8,
   "id": "dc6b4a82",
   "metadata": {},
   "outputs": [
    {
     "data": {
      "text/plain": [
       "Text(0, 0.5, 'x')"
      ]
     },
     "execution_count": 8,
     "metadata": {},
     "output_type": "execute_result"
    },
    {
     "data": {
      "image/png": "[encoded data removed]",
      "text/plain": [
       "<Figure size 432x288 with 1 Axes>"
      ]
     },
     "metadata": {
      "needs_background": "light"
     },
     "output_type": "display_data"
    }
   ],
   "source": [
    "plt.plot(times,positions)\n",
    "plt.xlabel('t')\n",
    "plt.ylabel('x')"
   ]
  },
  {
   "cell_type": "markdown",
   "id": "6681ed3b",
   "metadata": {},
   "source": [
    "# Meander run-and-tumble trajectory"
   ]
  },
  {
   "cell_type": "code",
   "execution_count": 9,
   "id": "2c47ec38",
   "metadata": {},
   "outputs": [],
   "source": [
    "''' First-passage distribution and survival probability of a free particle \n",
    "in the presence of an absorbing boundary at the origin. These functions are\n",
    "necessary to compute the effective tumbling rate for the meander run-and-tumble\n",
    "trajectory.\n",
    "'''\n",
    "def F_plus(x,t):\n",
    "    return np.exp(-t)/g(t,x)*(x*scipy.special.i1(h(t,x)) + np.sqrt(f(t,x)/g(t,x))*scipy.special.i1(h(t,x)))\n",
    "def F_minus(x,t):\n",
    "    return np.exp(-t)*x/np.sqrt(h(t,x))*scipy.special.i1(h(t,x))\n",
    "def S_plus(x,t,dt):\n",
    "    times = np.arange(x+dt,tf-t,dt)\n",
    "    return 1 - np.trapz(F_plus(x,times),times)\n",
    "def S_minus(x,t,dt):\n",
    "    times = np.arange(x+dt,tf-t,dt)\n",
    "    delta_contrib = np.exp(-x)\n",
    "    return 1 - delta_contrib - np.trapz(F_minus(x,times),times)"
   ]
  },
  {
   "cell_type": "code",
   "execution_count": 10,
   "id": "8cffd1a2",
   "metadata": {},
   "outputs": [],
   "source": [
    "''' We cache the values of the effective tumbling rate in memory for \n",
    "better efficiency because its exact expression is known as an integral \n",
    "representation. Cache is a dictionary indexed by the times and whose values \n",
    "are the effective tumbling rates at various positions.\n",
    "'''\n",
    "def create_cache_gamma(tf,dt):\n",
    "    \n",
    "    cache = {}\n",
    "    t = 0\n",
    "    while t < tf:\n",
    "        positions = np.arange(0,tf/2 - np.abs(t-tf/2) + dt,dt)\n",
    "        gamma_values = np.zeros(len(positions)) \n",
    "        for i in range(len(positions)):\n",
    "            x = positions[i]\n",
    "            gamma_values[i] = S_minus(x,t,dt)/S_plus(x,t,dt)\n",
    "            \n",
    "        cache[t] = {'x':positions,'gamma':gamma_values}\n",
    "        t = t + dt\n",
    "    return cache"
   ]
  },
  {
   "cell_type": "code",
   "execution_count": 11,
   "id": "78b62a12",
   "metadata": {},
   "outputs": [],
   "source": [
    "def gamma_meander(x,t,tf):\n",
    "    ''' returns the effective tumbling rate a meander run-and-tumble particle'''\n",
    "    if x <= tf/2 - np.abs(t-tf/2):\n",
    "        return np.interp(x,cache[t]['x'],cache[t]['gamma'])\n",
    "    else:\n",
    "        return 1"
   ]
  },
  {
   "cell_type": "code",
   "execution_count": 12,
   "id": "9790289c",
   "metadata": {},
   "outputs": [],
   "source": [
    "dt = 0.1\n",
    "tf = 5\n",
    "cache = create_cache_gamma(tf,dt)\n",
    "times, positions = run(tf,dt,gamma_meander)"
   ]
  },
  {
   "cell_type": "code",
   "execution_count": 13,
   "id": "a423760c",
   "metadata": {},
   "outputs": [
    {
     "data": {
      "text/plain": [
       "Text(0, 0.5, 'x')"
      ]
     },
     "execution_count": 13,
     "metadata": {},
     "output_type": "execute_result"
    },
    {
     "data": {
      "image/png": "[encoded data removed]",
      "text/plain": [
       "<Figure size 432x288 with 1 Axes>"
      ]
     },
     "metadata": {
      "needs_background": "light"
     },
     "output_type": "display_data"
    }
   ],
   "source": [
    "plt.plot(times,positions)\n",
    "plt.xlabel('t')\n",
    "plt.ylabel('x')"
   ]
  },
  {
   "cell_type": "code",
   "execution_count": null,
   "id": "2a3369d3",
   "metadata": {},
   "outputs": [],
   "source": []
  }
 ],
 "metadata": {
  "kernelspec": {
   "display_name": "Python 3",
   "language": "python",
   "name": "python3"
  },
  "language_info": {
   "codemirror_mode": {
    "name": "ipython",
    "version": 3
   },
   "file_extension": ".py",
   "mimetype": "text/x-python",
   "name": "python",
   "nbconvert_exporter": "python",
   "pygments_lexer": "ipython3",
   "version": "3.8.9"
  }
 },
 "nbformat": 4,
 "nbformat_minor": 5
}
